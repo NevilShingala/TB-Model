{
  "nbformat": 4,
  "nbformat_minor": 0,
  "metadata": {
    "colab": {
      "provenance": [],
      "collapsed_sections": [],
      "machine_shape": "hm"
    },
    "kernelspec": {
      "name": "python3",
      "display_name": "Python 3"
    },
    "language_info": {
      "name": "python"
    },
    "accelerator": "GPU"
  },
  "cells": [
    {
      "cell_type": "code",
      "source": [
        "from google.colab import drive\n",
        "\n",
        "drive.mount('/content/drive')"
      ],
      "metadata": {
        "colab": {
          "base_uri": "https://localhost:8080/"
        },
        "id": "PEyJIOddQ4Qt",
        "outputId": "df9f5bbe-ea1f-47a8-ab03-37c3f4a2b095"
      },
      "execution_count": null,
      "outputs": [
        {
          "output_type": "stream",
          "name": "stdout",
          "text": [
            "Mounted at /content/drive\n"
          ]
        }
      ]
    },
    {
      "cell_type": "code",
      "execution_count": null,
      "metadata": {
        "id": "uPxJf31dQi1w"
      },
      "outputs": [],
      "source": [
        "import tensorflow as tf \n",
        "from keras.layers import Input, Lambda, Dense, Flatten\n",
        "from keras.models import Model\n",
        "#from keras.applications.resnet50 import ResNet50\n",
        "from PIL import Image, ImageChops\n",
        "from keras.applications.vgg16 import VGG16\n",
        "from keras.applications.vgg16 import preprocess_input\n",
        "from keras.preprocessing import image\n",
        "from keras.preprocessing.image import ImageDataGenerator\n",
        "from keras.models import Sequential\n",
        "import numpy as np\n",
        "from glob import glob\n",
        "import matplotlib.pyplot as plt"
      ]
    },
    {
      "cell_type": "code",
      "source": [
        "\n",
        "IMAGE_SIZE =[500,500]\n",
        "train_path = '/content/drive/MyDrive/ColabNotebooks/TB_Chest_Radiography_Database/train'\n",
        "valid_path = '/content/drive/MyDrive/ColabNotebooks/TB_Chest_Radiography_Database/test'"
      ],
      "metadata": {
        "id": "ka4wRZGPQtc-"
      },
      "execution_count": null,
      "outputs": []
    },
    {
      "cell_type": "code",
      "source": [
        "vgg = VGG16(input_shape=IMAGE_SIZE + [3] , weights='imagenet', include_top=False)"
      ],
      "metadata": {
        "id": "BXf-q4WTRJtK",
        "colab": {
          "base_uri": "https://localhost:8080/"
        },
        "outputId": "0aa774a0-225d-44fc-e459-ea177ff799b5"
      },
      "execution_count": null,
      "outputs": [
        {
          "output_type": "stream",
          "name": "stdout",
          "text": [
            "Downloading data from https://storage.googleapis.com/tensorflow/keras-applications/vgg16/vgg16_weights_tf_dim_ordering_tf_kernels_notop.h5\n",
            "58892288/58889256 [==============================] - 0s 0us/step\n",
            "58900480/58889256 [==============================] - 0s 0us/step\n"
          ]
        }
      ]
    },
    {
      "cell_type": "code",
      "source": [
        "for layer in vgg.layers:\n",
        "    layer.trainable = False"
      ],
      "metadata": {
        "id": "fQshrLtkRe6s"
      },
      "execution_count": null,
      "outputs": []
    },
    {
      "cell_type": "code",
      "source": [
        "folders = glob('/content/drive/MyDrive/ColabNotebooks/TB_Chest_Radiography_Database/train/*')\n",
        "print(folders)"
      ],
      "metadata": {
        "id": "_9QNNCmERl0B",
        "colab": {
          "base_uri": "https://localhost:8080/"
        },
        "outputId": "435046f3-8889-4e51-c837-ac0f984661f6"
      },
      "execution_count": null,
      "outputs": [
        {
          "output_type": "stream",
          "name": "stdout",
          "text": [
            "['/content/drive/MyDrive/ColabNotebooks/TB_Chest_Radiography_Database/train/Normal', '/content/drive/MyDrive/ColabNotebooks/TB_Chest_Radiography_Database/train/Tuberculosis']\n"
          ]
        }
      ]
    },
    {
      "cell_type": "code",
      "source": [
        "x = Flatten()(vgg.output)"
      ],
      "metadata": {
        "id": "lJlrwmRhRvIz"
      },
      "execution_count": null,
      "outputs": []
    },
    {
      "cell_type": "code",
      "source": [
        "prediction = Dense(len(folders), activation='softmax')(x)\n",
        "# MOdel creation\n",
        "model = Model(inputs=vgg.input, outputs=prediction)"
      ],
      "metadata": {
        "id": "InT_VYpcRyAO"
      },
      "execution_count": null,
      "outputs": []
    },
    {
      "cell_type": "code",
      "source": [
        "model.summary()"
      ],
      "metadata": {
        "id": "o_roiSpnR7zC",
        "colab": {
          "base_uri": "https://localhost:8080/"
        },
        "outputId": "fe05b278-267e-4327-8d5f-99283ac7ad77"
      },
      "execution_count": null,
      "outputs": [
        {
          "output_type": "stream",
          "name": "stdout",
          "text": [
            "Model: \"model\"\n",
            "_________________________________________________________________\n",
            " Layer (type)                Output Shape              Param #   \n",
            "=================================================================\n",
            " input_1 (InputLayer)        [(None, 500, 500, 3)]     0         \n",
            "                                                                 \n",
            " block1_conv1 (Conv2D)       (None, 500, 500, 64)      1792      \n",
            "                                                                 \n",
            " block1_conv2 (Conv2D)       (None, 500, 500, 64)      36928     \n",
            "                                                                 \n",
            " block1_pool (MaxPooling2D)  (None, 250, 250, 64)      0         \n",
            "                                                                 \n",
            " block2_conv1 (Conv2D)       (None, 250, 250, 128)     73856     \n",
            "                                                                 \n",
            " block2_conv2 (Conv2D)       (None, 250, 250, 128)     147584    \n",
            "                                                                 \n",
            " block2_pool (MaxPooling2D)  (None, 125, 125, 128)     0         \n",
            "                                                                 \n",
            " block3_conv1 (Conv2D)       (None, 125, 125, 256)     295168    \n",
            "                                                                 \n",
            " block3_conv2 (Conv2D)       (None, 125, 125, 256)     590080    \n",
            "                                                                 \n",
            " block3_conv3 (Conv2D)       (None, 125, 125, 256)     590080    \n",
            "                                                                 \n",
            " block3_pool (MaxPooling2D)  (None, 62, 62, 256)       0         \n",
            "                                                                 \n",
            " block4_conv1 (Conv2D)       (None, 62, 62, 512)       1180160   \n",
            "                                                                 \n",
            " block4_conv2 (Conv2D)       (None, 62, 62, 512)       2359808   \n",
            "                                                                 \n",
            " block4_conv3 (Conv2D)       (None, 62, 62, 512)       2359808   \n",
            "                                                                 \n",
            " block4_pool (MaxPooling2D)  (None, 31, 31, 512)       0         \n",
            "                                                                 \n",
            " block5_conv1 (Conv2D)       (None, 31, 31, 512)       2359808   \n",
            "                                                                 \n",
            " block5_conv2 (Conv2D)       (None, 31, 31, 512)       2359808   \n",
            "                                                                 \n",
            " block5_conv3 (Conv2D)       (None, 31, 31, 512)       2359808   \n",
            "                                                                 \n",
            " block5_pool (MaxPooling2D)  (None, 15, 15, 512)       0         \n",
            "                                                                 \n",
            " flatten (Flatten)           (None, 115200)            0         \n",
            "                                                                 \n",
            " dense (Dense)               (None, 2)                 230402    \n",
            "                                                                 \n",
            "=================================================================\n",
            "Total params: 14,945,090\n",
            "Trainable params: 230,402\n",
            "Non-trainable params: 14,714,688\n",
            "_________________________________________________________________\n"
          ]
        }
      ]
    },
    {
      "cell_type": "code",
      "source": [
        "#cost and optimization method\n",
        "run_opts = tf.compat.v1.RunOptions(report_tensor_allocations_upon_oom = True)\n",
        "model.compile(\n",
        "  loss='categorical_crossentropy',\n",
        "  optimizer='adam',\n",
        "  metrics=['accuracy']\n",
        ")\n"
      ],
      "metadata": {
        "id": "pf5AZZ1UTzG8"
      },
      "execution_count": null,
      "outputs": []
    },
    {
      "cell_type": "code",
      "source": [
        "from keras.preprocessing.image import ImageDataGenerator\n",
        "\n",
        "train_datagen = ImageDataGenerator(rescale = 1./255,\n",
        "                                   shear_range = 0.2,\n",
        "                                   zoom_range = 0.2,\n",
        "                                   horizontal_flip = True)\n",
        "\n",
        "test_datagen = ImageDataGenerator(rescale = 1./255)\n",
        "val_datagen = ImageDataGenerator(rescale = 1./255)"
      ],
      "metadata": {
        "id": "rFhWWOXiUVqs"
      },
      "execution_count": null,
      "outputs": []
    },
    {
      "cell_type": "code",
      "source": [
        "training_set = train_datagen.flow_from_directory('/content/drive/MyDrive/ColabNotebooks/TB_Chest_Radiography_Database/train',\n",
        "                                                 target_size = (500,500),\n",
        "                                                 batch_size = 5,\n",
        "                                                 class_mode = 'categorical')"
      ],
      "metadata": {
        "id": "GSToeaXeUbG5",
        "colab": {
          "base_uri": "https://localhost:8080/"
        },
        "outputId": "cb9245d5-d130-4886-a959-7f66c015c559"
      },
      "execution_count": null,
      "outputs": [
        {
          "output_type": "stream",
          "name": "stdout",
          "text": [
            "Found 3750 images belonging to 2 classes.\n"
          ]
        }
      ]
    },
    {
      "cell_type": "code",
      "source": [
        "test_set = test_datagen.flow_from_directory('/content/drive/MyDrive/ColabNotebooks/TB_Chest_Radiography_Database/test',\n",
        "                                            target_size = (500,500),\n",
        "                                            batch_size = 5,\n",
        "                                            class_mode = 'categorical')\n",
        "print(test_set)"
      ],
      "metadata": {
        "id": "zpB4GoKzUqCz",
        "colab": {
          "base_uri": "https://localhost:8080/"
        },
        "outputId": "f121dadd-a722-4410-cab0-0acc69727444"
      },
      "execution_count": null,
      "outputs": [
        {
          "output_type": "stream",
          "name": "stdout",
          "text": [
            "Found 386 images belonging to 2 classes.\n",
            "<keras.preprocessing.image.DirectoryIterator object at 0x7fdc400bf9d0>\n"
          ]
        }
      ]
    },
    {
      "cell_type": "code",
      "source": [
        "for _ in range(50):\n",
        "    img, label = training_set.next()\n",
        "    print(img.shape)   #  (1,256,256,3)\n",
        "    plt.imshow(img[0])\n",
        "    plt.show()"
      ],
      "metadata": {
        "id": "WWM2JP85b4XZ"
      },
      "execution_count": null,
      "outputs": []
    },
    {
      "cell_type": "code",
      "source": [
        "# fit the Model\n",
        "r = model.fit(\n",
        "  training_set,\n",
        "  validation_data=test_set,\n",
        "  epochs=25,\n",
        "  steps_per_epoch=(len(training_set)),\n",
        "  validation_steps=len(test_set),\n",
        "  #batch_size=32\n",
        ")"
      ],
      "metadata": {
        "colab": {
          "base_uri": "https://localhost:8080/"
        },
        "id": "STNlTb25Ucp7",
        "outputId": "0a05b5f2-e638-4ade-d850-ba4622b3e520"
      },
      "execution_count": null,
      "outputs": [
        {
          "output_type": "stream",
          "name": "stdout",
          "text": [
            "Epoch 1/25\n",
            "750/750 [==============================] - 421s 547ms/step - loss: 0.7080 - accuracy: 0.9261 - val_loss: 0.1004 - val_accuracy: 0.9819\n",
            "Epoch 2/25\n",
            "750/750 [==============================] - 231s 309ms/step - loss: 0.2597 - accuracy: 0.9717 - val_loss: 0.1639 - val_accuracy: 0.9819\n",
            "Epoch 3/25\n",
            "750/750 [==============================] - 232s 309ms/step - loss: 0.4852 - accuracy: 0.9597 - val_loss: 0.3783 - val_accuracy: 0.9767\n",
            "Epoch 4/25\n",
            "750/750 [==============================] - 231s 309ms/step - loss: 0.2921 - accuracy: 0.9803 - val_loss: 0.0672 - val_accuracy: 0.9896\n",
            "Epoch 5/25\n",
            "750/750 [==============================] - 234s 312ms/step - loss: 0.1928 - accuracy: 0.9851 - val_loss: 0.1347 - val_accuracy: 0.9896\n",
            "Epoch 6/25\n",
            "750/750 [==============================] - 234s 312ms/step - loss: 0.1867 - accuracy: 0.9840 - val_loss: 0.7065 - val_accuracy: 0.9715\n",
            "Epoch 7/25\n",
            "750/750 [==============================] - 233s 310ms/step - loss: 0.2060 - accuracy: 0.9861 - val_loss: 0.1880 - val_accuracy: 0.9870\n",
            "Epoch 8/25\n",
            "750/750 [==============================] - 232s 309ms/step - loss: 0.2557 - accuracy: 0.9832 - val_loss: 0.0765 - val_accuracy: 0.9948\n",
            "Epoch 9/25\n",
            "750/750 [==============================] - 234s 312ms/step - loss: 0.3120 - accuracy: 0.9827 - val_loss: 0.1916 - val_accuracy: 0.9896\n",
            "Epoch 10/25\n",
            "750/750 [==============================] - 232s 309ms/step - loss: 0.4202 - accuracy: 0.9784 - val_loss: 1.2746 - val_accuracy: 0.9585\n",
            "Epoch 11/25\n",
            "750/750 [==============================] - 233s 310ms/step - loss: 0.2118 - accuracy: 0.9880 - val_loss: 0.1077 - val_accuracy: 0.9974\n",
            "Epoch 12/25\n",
            "750/750 [==============================] - 232s 309ms/step - loss: 0.1315 - accuracy: 0.9904 - val_loss: 0.3352 - val_accuracy: 0.9819\n",
            "Epoch 13/25\n",
            "750/750 [==============================] - 232s 310ms/step - loss: 0.1226 - accuracy: 0.9912 - val_loss: 0.1375 - val_accuracy: 0.9896\n",
            "Epoch 14/25\n",
            "750/750 [==============================] - 232s 309ms/step - loss: 0.1622 - accuracy: 0.9893 - val_loss: 0.1054 - val_accuracy: 0.9896\n",
            "Epoch 15/25\n",
            "750/750 [==============================] - 231s 308ms/step - loss: 0.2651 - accuracy: 0.9864 - val_loss: 2.4538 - val_accuracy: 0.9456\n",
            "Epoch 16/25\n",
            "750/750 [==============================] - 232s 310ms/step - loss: 0.2534 - accuracy: 0.9883 - val_loss: 2.3772 - val_accuracy: 0.9508\n",
            "Epoch 17/25\n",
            "750/750 [==============================] - 231s 308ms/step - loss: 0.1423 - accuracy: 0.9928 - val_loss: 0.2216 - val_accuracy: 0.9870\n",
            "Epoch 18/25\n",
            "750/750 [==============================] - 231s 308ms/step - loss: 0.1773 - accuracy: 0.9925 - val_loss: 0.4281 - val_accuracy: 0.9845\n",
            "Epoch 19/25\n",
            "750/750 [==============================] - 231s 308ms/step - loss: 0.1493 - accuracy: 0.9925 - val_loss: 0.2525 - val_accuracy: 0.9948\n",
            "Epoch 20/25\n",
            "750/750 [==============================] - 231s 308ms/step - loss: 0.1383 - accuracy: 0.9901 - val_loss: 0.2493 - val_accuracy: 0.9870\n",
            "Epoch 21/25\n",
            "750/750 [==============================] - 232s 309ms/step - loss: 0.1701 - accuracy: 0.9917 - val_loss: 0.2747 - val_accuracy: 0.9845\n",
            "Epoch 22/25\n",
            "750/750 [==============================] - 233s 310ms/step - loss: 0.1440 - accuracy: 0.9928 - val_loss: 0.2118 - val_accuracy: 0.9896\n",
            "Epoch 23/25\n",
            "750/750 [==============================] - 231s 308ms/step - loss: 0.1180 - accuracy: 0.9928 - val_loss: 0.9513 - val_accuracy: 0.9793\n",
            "Epoch 24/25\n",
            "750/750 [==============================] - 231s 309ms/step - loss: 0.1220 - accuracy: 0.9941 - val_loss: 0.2682 - val_accuracy: 0.9896\n",
            "Epoch 25/25\n",
            "750/750 [==============================] - 231s 308ms/step - loss: 0.0460 - accuracy: 0.9960 - val_loss: 0.4280 - val_accuracy: 0.9845\n"
          ]
        }
      ]
    },
    {
      "cell_type": "code",
      "source": [
        "# plot the loss\n",
        "plt.plot(r.history['loss'], label='train loss')\n",
        "plt.plot(r.history['val_loss'], label='val loss')\n",
        "plt.xlabel(\"epoch\")\n",
        "plt.ylabel(\"Loss\")\n",
        "plt.legend()\n",
        "plt.show()\n",
        "plt.savefig('LossVal_loss')\n",
        "\n",
        "# plot the accuracy\n",
        "plt.plot(r.history['accuracy'], label='train accuracy')\n",
        "plt.plot(r.history['val_accuracy'], label='val accuracy')\n",
        "plt.xlabel(\"epoch\")\n",
        "plt.ylabel(\"Accurracy\")\n",
        "plt.legend()\n",
        "plt.show()\n",
        "plt.savefig('AccVal_accuracy')"
      ],
      "metadata": {
        "id": "vcVctCa8BmbJ",
        "colab": {
          "base_uri": "https://localhost:8080/",
          "height": 561
        },
        "outputId": "f1efde0b-b0ed-49d3-f457-67ecc80ed3bf"
      },
      "execution_count": null,
      "outputs": [
        {
          "output_type": "display_data",
          "data": {
            "text/plain": [
              "<Figure size 432x288 with 1 Axes>"
            ],
            "image/png": "[encoded data removed]"
          },
          "metadata": {
            "needs_background": "light"
          }
        },
        {
          "output_type": "display_data",
          "data": {
            "text/plain": [
              "<Figure size 432x288 with 1 Axes>"
            ],
            "image/png": "[encoded data removed]"
          },
          "metadata": {
            "needs_background": "light"
          }
        },
        {
          "output_type": "display_data",
          "data": {
            "text/plain": [
              "<Figure size 432x288 with 0 Axes>"
            ]
          },
          "metadata": {}
        }
      ]
    },
    {
      "cell_type": "code",
      "source": [
        "# save it as a h5 file\n",
        "\n",
        "import tensorflow as tf\n",
        "\n",
        "from keras.models import load_model\n",
        "\n",
        "model.save('Trained_modelTB.h5')"
      ],
      "metadata": {
        "id": "lbjl3a3Tk0Qg"
      },
      "execution_count": null,
      "outputs": []
    },
    {
      "cell_type": "code",
      "source": [
        "from google.colab import drive\n",
        "drive.mount('/content/drive')"
      ],
      "metadata": {
        "id": "DyNAzHsRjho4"
      },
      "execution_count": null,
      "outputs": []
    }
  ]
}