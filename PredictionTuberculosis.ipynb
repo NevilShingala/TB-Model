{
  "nbformat": 4,
  "nbformat_minor": 0,
  "metadata": {
    "colab": {
      "provenance": [],
      "collapsed_sections": []
    },
    "kernelspec": {
      "name": "python3",
      "display_name": "Python 3"
    },
    "language_info": {
      "name": "python"
    }
  },
  "cells": [
    {
      "cell_type": "code",
      "execution_count": null,
      "metadata": {
        "colab": {
          "base_uri": "https://localhost:8080/"
        },
        "id": "qWFdgX0diGPo",
        "outputId": "ff9b6e68-0126-4d94-cf3d-e1ced673cd4d"
      },
      "outputs": [
        {
          "output_type": "stream",
          "name": "stdout",
          "text": [
            "Mounted at /content/drive\n"
          ]
        }
      ],
      "source": [
        "from google.colab import drive\n",
        "\n",
        "drive.mount('/content/drive')"
      ]
    },
    {
      "cell_type": "code",
      "source": [
        "import tensorflow as tf \n",
        "from keras.layers import Input, Lambda, Dense, Flatten\n",
        "from keras.models import Model\n",
        "#from keras.applications.resnet50 import ResNet50\n",
        "from PIL import Image, ImageChops\n",
        "from keras.applications.vgg16 import VGG16\n",
        "from keras.applications.vgg16 import preprocess_input\n",
        "from keras.preprocessing import image\n",
        "from keras.preprocessing.image import ImageDataGenerator\n",
        "from keras.models import Sequential\n",
        "import numpy as np\n",
        "import glob\n",
        "import matplotlib.pyplot as plt\n",
        "import random\n",
        "\n",
        "from keras.models import load_model\n"
      ],
      "metadata": {
        "id": "4o-EQh1piYs6"
      },
      "execution_count": null,
      "outputs": []
    },
    {
      "cell_type": "markdown",
      "source": [],
      "metadata": {
        "id": "mRSxgdGYiYbS"
      }
    },
    {
      "cell_type": "code",
      "source": [
        "pred_path=\"/content/drive/MyDrive/ColabNotebooks/TB_Chest_Radiography_Database/Val\""
      ],
      "metadata": {
        "id": "ru15ow4TicwR"
      },
      "execution_count": null,
      "outputs": []
    },
    {
      "cell_type": "code",
      "source": [
        "model=load_model(\"/content/drive/MyDrive/ColabNotebooks/Trained_modelTB.h5\")"
      ],
      "metadata": {
        "id": "P5UhRuSKjtB-"
      },
      "execution_count": null,
      "outputs": []
    },
    {
      "cell_type": "code",
      "source": [
        "Normal_list= []\n",
        "Normal_list=glob.glob(\"/content/drive/MyDrive/ColabNotebooks/TB_Chest_Radiography_Database/Val/Normal/*.*\")\n",
        "Tuberculosis_list= glob.glob(\"/content/drive/MyDrive/ColabNotebooks/TB_Chest_Radiography_Database/Val/Tuberculosis/*.*\")"
      ],
      "metadata": {
        "id": "PyJ6UDigs18h"
      },
      "execution_count": null,
      "outputs": []
    },
    {
      "cell_type": "code",
      "source": [
        "Normal_list"
      ],
      "metadata": {
        "colab": {
          "base_uri": "https://localhost:8080/"
        },
        "id": "1ZsJZR2ovzUl",
        "outputId": "3a4f720b-3f48-4260-e8d6-b965a6735320"
      },
      "execution_count": null,
      "outputs": [
        {
          "output_type": "execute_result",
          "data": {
            "text/plain": [
              "['/content/drive/MyDrive/ColabNotebooks/TB_Chest_Radiography_Database/Val/Normal/Normal-10.png',\n",
              " '/content/drive/MyDrive/ColabNotebooks/TB_Chest_Radiography_Database/Val/Normal/Normal-122.png',\n",
              " '/content/drive/MyDrive/ColabNotebooks/TB_Chest_Radiography_Database/Val/Normal/Normal-16.png',\n",
              " '/content/drive/MyDrive/ColabNotebooks/TB_Chest_Radiography_Database/Val/Normal/Normal-163.png',\n",
              " '/content/drive/MyDrive/ColabNotebooks/TB_Chest_Radiography_Database/Val/Normal/Normal-21.png',\n",
              " '/content/drive/MyDrive/ColabNotebooks/TB_Chest_Radiography_Database/Val/Normal/Normal-32.png',\n",
              " '/content/drive/MyDrive/ColabNotebooks/TB_Chest_Radiography_Database/Val/Normal/Normal-48.png',\n",
              " '/content/drive/MyDrive/ColabNotebooks/TB_Chest_Radiography_Database/Val/Normal/Normal-62.png',\n",
              " '/content/drive/MyDrive/ColabNotebooks/TB_Chest_Radiography_Database/Val/Normal/Normal-81.png',\n",
              " '/content/drive/MyDrive/ColabNotebooks/TB_Chest_Radiography_Database/Val/Normal/Normal-98.png']"
            ]
          },
          "metadata": {},
          "execution_count": 7
        }
      ]
    },
    {
      "cell_type": "code",
      "source": [
        "# If 1 is t first place, it indicate that x-ray  is Normal.\n",
        "# If 1 is in second place, it indicates that X-rays has signs of TB\n",
        "\n",
        "Normal_list.extend(Tuberculosis_list)\n",
        "random.shuffle(Normal_list)\n",
        "Normal_list"
      ],
      "metadata": {
        "colab": {
          "base_uri": "https://localhost:8080/"
        },
        "id": "RBlRIA1SudEd",
        "outputId": "089d3953-0f5e-4fea-ef85-afdde618e809"
      },
      "execution_count": null,
      "outputs": [
        {
          "output_type": "execute_result",
          "data": {
            "text/plain": [
              "['/content/drive/MyDrive/ColabNotebooks/TB_Chest_Radiography_Database/Val/Tuberculosis/Tuberculosis-7.png',\n",
              " '/content/drive/MyDrive/ColabNotebooks/TB_Chest_Radiography_Database/Val/Normal/Normal-16.png',\n",
              " '/content/drive/MyDrive/ColabNotebooks/TB_Chest_Radiography_Database/Val/Normal/Normal-48.png',\n",
              " '/content/drive/MyDrive/ColabNotebooks/TB_Chest_Radiography_Database/Val/Normal/Normal-21.png',\n",
              " '/content/drive/MyDrive/ColabNotebooks/TB_Chest_Radiography_Database/Val/Tuberculosis/Tuberculosis-205.png',\n",
              " '/content/drive/MyDrive/ColabNotebooks/TB_Chest_Radiography_Database/Val/Normal/Normal-98.png',\n",
              " '/content/drive/MyDrive/ColabNotebooks/TB_Chest_Radiography_Database/Val/Tuberculosis/Tuberculosis-18.png',\n",
              " '/content/drive/MyDrive/ColabNotebooks/TB_Chest_Radiography_Database/Val/Normal/Normal-122.png',\n",
              " '/content/drive/MyDrive/ColabNotebooks/TB_Chest_Radiography_Database/Val/Tuberculosis/Tuberculosis-55.png',\n",
              " '/content/drive/MyDrive/ColabNotebooks/TB_Chest_Radiography_Database/Val/Normal/Normal-163.png',\n",
              " '/content/drive/MyDrive/ColabNotebooks/TB_Chest_Radiography_Database/Val/Normal/Normal-81.png',\n",
              " '/content/drive/MyDrive/ColabNotebooks/TB_Chest_Radiography_Database/Val/Tuberculosis/Tuberculosis-42.png',\n",
              " '/content/drive/MyDrive/ColabNotebooks/TB_Chest_Radiography_Database/Val/Normal/Normal-10.png',\n",
              " '/content/drive/MyDrive/ColabNotebooks/TB_Chest_Radiography_Database/Val/Normal/Normal-32.png',\n",
              " '/content/drive/MyDrive/ColabNotebooks/TB_Chest_Radiography_Database/Val/Tuberculosis/Tuberculosis-35.png',\n",
              " '/content/drive/MyDrive/ColabNotebooks/TB_Chest_Radiography_Database/Val/Tuberculosis/Tuberculosis-54.png',\n",
              " '/content/drive/MyDrive/ColabNotebooks/TB_Chest_Radiography_Database/Val/Normal/Normal-62.png',\n",
              " '/content/drive/MyDrive/ColabNotebooks/TB_Chest_Radiography_Database/Val/Tuberculosis/Tuberculosis-21.png',\n",
              " '/content/drive/MyDrive/ColabNotebooks/TB_Chest_Radiography_Database/Val/Tuberculosis/Tuberculosis-188.png',\n",
              " '/content/drive/MyDrive/ColabNotebooks/TB_Chest_Radiography_Database/Val/Tuberculosis/Tuberculosis-164.png']"
            ]
          },
          "metadata": {},
          "execution_count": 8
        }
      ]
    },
    {
      "cell_type": "code",
      "source": [
        "L=len(Normal_list)\n",
        "for i in range(0,L):\n",
        "  img= image.load_img(Normal_list[i],target_size=(500,500))\n",
        "  x=image.img_to_array(img)\n",
        "  x= np.expand_dims(x, axis=0)\n",
        "  img_data= preprocess_input(x)\n",
        "  Result= model.predict(img_data)\n",
        "  print(Result)"
      ],
      "metadata": {
        "colab": {
          "base_uri": "https://localhost:8080/"
        },
        "id": "mZROiVRSzTsh",
        "outputId": "cbb10c52-542e-46a7-8cb4-0bee2d6d6cad"
      },
      "execution_count": null,
      "outputs": [
        {
          "output_type": "stream",
          "name": "stdout",
          "text": [
            "[[0. 1.]]\n",
            "[[1. 0.]]\n",
            "[[1. 0.]]\n",
            "[[1. 0.]]\n",
            "[[1. 0.]]\n",
            "[[1. 0.]]\n",
            "[[0. 1.]]\n",
            "[[1. 0.]]\n",
            "[[0. 1.]]\n",
            "[[1. 0.]]\n",
            "[[1. 0.]]\n",
            "[[0. 1.]]\n",
            "[[1. 0.]]\n",
            "[[1. 0.]]\n",
            "[[0. 1.]]\n",
            "[[0. 1.]]\n",
            "[[1. 0.]]\n",
            "[[9.99887586e-01 1.12391426e-04]]\n",
            "[[0. 1.]]\n",
            "[[0. 1.]]\n"
          ]
        }
      ]
    }
  ]
}